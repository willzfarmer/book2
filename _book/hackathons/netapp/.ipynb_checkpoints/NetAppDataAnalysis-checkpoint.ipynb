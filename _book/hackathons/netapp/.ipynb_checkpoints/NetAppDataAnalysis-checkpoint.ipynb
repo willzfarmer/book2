{
 "cells": [
  {
   "cell_type": "markdown",
   "metadata": {},
   "source": [
    "# Set Up Imports"
   ]
  },
  {
   "cell_type": "code",
   "execution_count": 1,
   "metadata": {
    "collapsed": false
   },
   "outputs": [],
   "source": [
    "import numpy as np\n",
    "import pandas as pd\n",
    "import bqplot.pyplot as blt\n",
    "import matplotlib.pyplot as plt\n",
    "\n",
    "import time\n",
    "import datetime as dt\n",
    "\n",
    "import pysparkling\n",
    "\n",
    "conn = pysparkling.Context()\n",
    "\n",
    "from ipywidgets import interact\n",
    "\n",
    "%matplotlib inline"
   ]
  },
  {
   "cell_type": "markdown",
   "metadata": {},
   "source": [
    "# Load Data\n",
    "\n",
    "We're going to use the `pandas` module to load the data, as its csv stuff is really nice."
   ]
  },
  {
   "cell_type": "code",
   "execution_count": 2,
   "metadata": {
    "collapsed": false
   },
   "outputs": [],
   "source": [
    "data = pd.read_csv('netapp.csv', header=0,\n",
    "                   names=['date', 'system', 'controller', 'obs_time',\n",
    "                          'base_time', 'delta', 'release', 'fw', 'sw'],\n",
    "                   dtype={'system': object})"
   ]
  },
  {
   "cell_type": "markdown",
   "metadata": {},
   "source": [
    "Now we want to look at the what the rows look like."
   ]
  },
  {
   "cell_type": "code",
   "execution_count": 3,
   "metadata": {
    "collapsed": false
   },
   "outputs": [
    {
     "data": {
      "text/html": [
       "<div>\n",
       "<table border=\"1\" class=\"dataframe\">\n",
       "  <thead>\n",
       "    <tr style=\"text-align: right;\">\n",
       "      <th></th>\n",
       "      <th>date</th>\n",
       "      <th>system</th>\n",
       "      <th>controller</th>\n",
       "      <th>obs_time</th>\n",
       "      <th>base_time</th>\n",
       "      <th>delta</th>\n",
       "      <th>release</th>\n",
       "      <th>fw</th>\n",
       "      <th>sw</th>\n",
       "    </tr>\n",
       "  </thead>\n",
       "  <tbody>\n",
       "    <tr>\n",
       "      <th>0</th>\n",
       "      <td>1/1/15</td>\n",
       "      <td>1016FG000254</td>\n",
       "      <td>A</td>\n",
       "      <td>1420149619</td>\n",
       "      <td>1420063224</td>\n",
       "      <td>86395</td>\n",
       "      <td>Galena</td>\n",
       "      <td>07.86.34.00</td>\n",
       "      <td>10.86.0G00.0028</td>\n",
       "    </tr>\n",
       "    <tr>\n",
       "      <th>1</th>\n",
       "      <td>1/1/15</td>\n",
       "      <td>1016FG000432</td>\n",
       "      <td>A</td>\n",
       "      <td>1420125162</td>\n",
       "      <td>1420091715</td>\n",
       "      <td>33447</td>\n",
       "      <td>Galena</td>\n",
       "      <td>07.86.36.30</td>\n",
       "      <td>10.86.0G00.0048</td>\n",
       "    </tr>\n",
       "    <tr>\n",
       "      <th>2</th>\n",
       "      <td>1/1/15</td>\n",
       "      <td>1017FG000057</td>\n",
       "      <td>A</td>\n",
       "      <td>1420102145</td>\n",
       "      <td>1420015747</td>\n",
       "      <td>86398</td>\n",
       "      <td>Galena</td>\n",
       "      <td>07.86.29.00</td>\n",
       "      <td>10.86.0G08.0017</td>\n",
       "    </tr>\n",
       "    <tr>\n",
       "      <th>3</th>\n",
       "      <td>1/1/15</td>\n",
       "      <td>1030FG000606</td>\n",
       "      <td>A</td>\n",
       "      <td>1420111809</td>\n",
       "      <td>1420044906</td>\n",
       "      <td>66903</td>\n",
       "      <td>Galena</td>\n",
       "      <td>07.86.45.30</td>\n",
       "      <td>10.86.0G00.0048</td>\n",
       "    </tr>\n",
       "    <tr>\n",
       "      <th>4</th>\n",
       "      <td>1/1/15</td>\n",
       "      <td>1030FG000619</td>\n",
       "      <td>A</td>\n",
       "      <td>1420112025</td>\n",
       "      <td>1420111359</td>\n",
       "      <td>666</td>\n",
       "      <td>Galena</td>\n",
       "      <td>07.86.45.30</td>\n",
       "      <td>10.86.0G00.0048</td>\n",
       "    </tr>\n",
       "  </tbody>\n",
       "</table>\n",
       "</div>"
      ],
      "text/plain": [
       "     date        system controller    obs_time   base_time  delta release  \\\n",
       "0  1/1/15  1016FG000254          A  1420149619  1420063224  86395  Galena   \n",
       "1  1/1/15  1016FG000432          A  1420125162  1420091715  33447  Galena   \n",
       "2  1/1/15  1017FG000057          A  1420102145  1420015747  86398  Galena   \n",
       "3  1/1/15  1030FG000606          A  1420111809  1420044906  66903  Galena   \n",
       "4  1/1/15  1030FG000619          A  1420112025  1420111359    666  Galena   \n",
       "\n",
       "            fw               sw  \n",
       "0  07.86.34.00  10.86.0G00.0028  \n",
       "1  07.86.36.30  10.86.0G00.0048  \n",
       "2  07.86.29.00  10.86.0G08.0017  \n",
       "3  07.86.45.30  10.86.0G00.0048  \n",
       "4  07.86.45.30  10.86.0G00.0048  "
      ]
     },
     "execution_count": 3,
     "metadata": {},
     "output_type": "execute_result"
    }
   ],
   "source": [
    "data.head()"
   ]
  },
  {
   "cell_type": "markdown",
   "metadata": {
    "collapsed": true
   },
   "source": [
    "# Analyze Data\n",
    "\n",
    "We will first examine the integrity of the overall dataset.\n",
    "\n",
    "## Delta Time Distribution\n",
    "\n",
    "This first plot looks at the time distribution of the deltas. Ideally we would see a flat line at approx. 86,000. We don't see that."
   ]
  },
  {
   "cell_type": "code",
   "execution_count": 4,
   "metadata": {
    "collapsed": false
   },
   "outputs": [
    {
     "data": {
      "image/png": "[encoded data removed]",
      "text/plain": [
       "<matplotlib.figure.Figure at 0x7f7c13d92320>"
      ]
     },
     "metadata": {},
     "output_type": "display_data"
    }
   ],
   "source": [
    "plt.figure(figsize=(16, 8))\n",
    "plt.scatter(data['obs_time'], data['delta'], s=1)\n",
    "plt.xlabel('Linux Epoch Time')\n",
    "plt.ylabel('Deltas')\n",
    "plt.show()"
   ]
  },
  {
   "cell_type": "markdown",
   "metadata": {},
   "source": [
    "## Mean and Standard Deviation\n",
    "\n",
    "We now examine the mean and standard deviation of the deltas for each system. First we generate our data. We will be setting a standard deviation threshold of one hour. Any system data that falls in the deviation we will call \"good\"."
   ]
  },
  {
   "cell_type": "code",
   "execution_count": 5,
   "metadata": {
    "collapsed": false
   },
   "outputs": [],
   "source": [
    "thresh = 3600\n",
    "grouping = data.groupby('system')\n",
    "size = len(grouping)\n",
    "stat_data = np.zeros((size, 4))\n",
    "i = 0\n",
    "for key, group in grouping:\n",
    "    deltas = group['delta']\n",
    "    stat_data[i][0] = deltas.mean()\n",
    "    stat_data[i][1] = deltas.std()\n",
    "    stat_data[i][2] = len(deltas)\n",
    "    stat_data[i][3] = (255 if deltas.std() <= thresh else 0)\n",
    "    i += 1"
   ]
  },
  {
   "cell_type": "markdown",
   "metadata": {},
   "source": [
    "We can plot these results."
   ]
  },
  {
   "cell_type": "code",
   "execution_count": 6,
   "metadata": {
    "collapsed": false
   },
   "outputs": [
    {
     "data": {
      "image/png": "[encoded data removed]",
      "text/plain": [
       "<matplotlib.figure.Figure at 0x7f7c13db5630>"
      ]
     },
     "metadata": {},
     "output_type": "display_data"
    }
   ],
   "source": [
    "fig, axarr = plt.subplots(1, 2, figsize=(16, 8))\n",
    "axarr[0].scatter(stat_data[:, 0], stat_data[:, 1],\n",
    "                 c=stat_data[:, 3], cmap=plt.cm.coolwarm,\n",
    "                 alpha=0.2)\n",
    "axarr[1].scatter(stat_data[:, 0], stat_data[:, 1],\n",
    "                 c=stat_data[:, 3], cmap=plt.cm.coolwarm,\n",
    "                 alpha=0.2)\n",
    "domain = np.arange(-1e7, 7e7)\n",
    "axarr[0].plot(domain, thresh * np.ones(len(domain)), 'k--')\n",
    "axarr[1].plot(domain, thresh * np.ones(len(domain)), 'k--')\n",
    "axarr[0].set_xlabel('Mean Delta Time')\n",
    "axarr[0].set_ylabel('Standard Deviation')\n",
    "axarr[1].set_xlabel('Mean Delta Time')\n",
    "axarr[1].set_ylabel('Standard Deviation')\n",
    "axarr[1].set_ylim(0, thresh * 2)\n",
    "plt.show()"
   ]
  },
  {
   "cell_type": "markdown",
   "metadata": {
    "collapsed": true
   },
   "source": [
    "From this we can interpret several things.\n",
    "\n",
    "1. The standard deviation of each system is terrible. Only a very small set of systems have consistently \"good\" data. This means that most systems have bad data.\n",
    "2. On the other hand, most systems are clustered at the (relative) origin. This is helpful, but many systems are still bad.\n",
    "\n",
    "Now that we know many systems result in poor data consistency, we can branch out and examine just the rows that we consider \"valid\", i.e., those rows in which the `delta` field is approximately 86,000 (the length of a day in seconds)."
   ]
  },
  {
   "cell_type": "markdown",
   "metadata": {},
   "source": [
    "# Good Row Analysis\n",
    "\n",
    "We start by pulling out only the valid rows. (We also get the \"bad\" rows, but we'll use those later.)"
   ]
  },
  {
   "cell_type": "code",
   "execution_count": 36,
   "metadata": {
    "collapsed": false
   },
   "outputs": [],
   "source": [
    "clean_raw_data = data.values[np.where(np.abs(data.values[:, 5] - 86400) <= 3600)[0]]\n",
    "dirty_raw_data = data.values[np.where(np.abs(data.values[:, 5] - 86400) > 3600)[0]]"
   ]
  },
  {
   "cell_type": "code",
   "execution_count": 18,
   "metadata": {
    "collapsed": false
   },
   "outputs": [
    {
     "name": "stdout",
     "output_type": "stream",
     "text": [
      "522288\n"
     ]
    },
    {
     "data": {
      "text/html": [
       "<div>\n",
       "<table border=\"1\" class=\"dataframe\">\n",
       "  <thead>\n",
       "    <tr style=\"text-align: right;\">\n",
       "      <th></th>\n",
       "      <th>date</th>\n",
       "      <th>system</th>\n",
       "      <th>controller</th>\n",
       "      <th>obs_time</th>\n",
       "      <th>base_time</th>\n",
       "      <th>delta</th>\n",
       "      <th>release</th>\n",
       "      <th>fw</th>\n",
       "      <th>sw</th>\n",
       "    </tr>\n",
       "  </thead>\n",
       "  <tbody>\n",
       "    <tr>\n",
       "      <th>0</th>\n",
       "      <td>1/1/15</td>\n",
       "      <td>1016FG000254</td>\n",
       "      <td>A</td>\n",
       "      <td>1.42015e+09</td>\n",
       "      <td>1.420063e+09</td>\n",
       "      <td>86395</td>\n",
       "      <td>Galena</td>\n",
       "      <td>07.86.34.00</td>\n",
       "      <td>10.86.0G00.0028</td>\n",
       "    </tr>\n",
       "    <tr>\n",
       "      <th>1</th>\n",
       "      <td>1/1/15</td>\n",
       "      <td>1017FG000057</td>\n",
       "      <td>A</td>\n",
       "      <td>1.420102e+09</td>\n",
       "      <td>1.420016e+09</td>\n",
       "      <td>86398</td>\n",
       "      <td>Galena</td>\n",
       "      <td>07.86.29.00</td>\n",
       "      <td>10.86.0G08.0017</td>\n",
       "    </tr>\n",
       "    <tr>\n",
       "      <th>2</th>\n",
       "      <td>1/1/15</td>\n",
       "      <td>1032FG000284</td>\n",
       "      <td>A</td>\n",
       "      <td>1.420105e+09</td>\n",
       "      <td>1.420018e+09</td>\n",
       "      <td>86395</td>\n",
       "      <td>Galena</td>\n",
       "      <td>07.86.32.00</td>\n",
       "      <td>10.86.0G00.0024</td>\n",
       "    </tr>\n",
       "    <tr>\n",
       "      <th>3</th>\n",
       "      <td>1/1/15</td>\n",
       "      <td>1032FG000288</td>\n",
       "      <td>B</td>\n",
       "      <td>1.420074e+09</td>\n",
       "      <td>1.419988e+09</td>\n",
       "      <td>86396</td>\n",
       "      <td>Galena</td>\n",
       "      <td>07.86.34.00</td>\n",
       "      <td>10.86.0G00.0013</td>\n",
       "    </tr>\n",
       "    <tr>\n",
       "      <th>4</th>\n",
       "      <td>1/1/15</td>\n",
       "      <td>1032FG000308</td>\n",
       "      <td>A</td>\n",
       "      <td>1.420151e+09</td>\n",
       "      <td>1.420065e+09</td>\n",
       "      <td>86396</td>\n",
       "      <td>Galena</td>\n",
       "      <td>07.86.32.00</td>\n",
       "      <td>10.86.0G00.0024</td>\n",
       "    </tr>\n",
       "  </tbody>\n",
       "</table>\n",
       "</div>"
      ],
      "text/plain": [
       "     date        system controller      obs_time     base_time  delta release  \\\n",
       "0  1/1/15  1016FG000254          A   1.42015e+09  1.420063e+09  86395  Galena   \n",
       "1  1/1/15  1017FG000057          A  1.420102e+09  1.420016e+09  86398  Galena   \n",
       "2  1/1/15  1032FG000284          A  1.420105e+09  1.420018e+09  86395  Galena   \n",
       "3  1/1/15  1032FG000288          B  1.420074e+09  1.419988e+09  86396  Galena   \n",
       "4  1/1/15  1032FG000308          A  1.420151e+09  1.420065e+09  86396  Galena   \n",
       "\n",
       "            fw               sw  \n",
       "0  07.86.34.00  10.86.0G00.0028  \n",
       "1  07.86.29.00  10.86.0G08.0017  \n",
       "2  07.86.32.00  10.86.0G00.0024  \n",
       "3  07.86.34.00  10.86.0G00.0013  \n",
       "4  07.86.32.00  10.86.0G00.0024  "
      ]
     },
     "execution_count": 18,
     "metadata": {},
     "output_type": "execute_result"
    }
   ],
   "source": [
    "clean_data = pd.DataFrame(clean_raw_data,\n",
    "                        columns=['date', 'system', 'controller', 'obs_time',\n",
    "                                 'base_time', 'delta', 'release', 'fw', 'sw'])\n",
    "print(len(clean_data))\n",
    "clean_data.head()"
   ]
  },
  {
   "cell_type": "markdown",
   "metadata": {},
   "source": [
    "We see that we've immediately removed half of the rows. This is arguably good. Notice the term \"arguably\"...\n",
    "\n",
    "## Reduction Comparison\n",
    "\n",
    "We'll start by looking at which systems \"lost\" the most data. We will do this by comparing the system groupings."
   ]
  },
  {
   "cell_type": "code",
   "execution_count": 26,
   "metadata": {
    "collapsed": false
   },
   "outputs": [],
   "source": [
    "original_grouping = data.groupby('system')\n",
    "clean_grouping = clean_df.groupby('system')\n",
    "keys = data['system'].unique()"
   ]
  },
  {
   "cell_type": "markdown",
   "metadata": {},
   "source": [
    "We will now extract the difference from this array."
   ]
  },
  {
   "cell_type": "code",
   "execution_count": 29,
   "metadata": {
    "collapsed": false
   },
   "outputs": [],
   "source": [
    "key_groups = np.zeros((len(clean_data), 2))\n",
    "i = 0\n",
    "for k in keys:\n",
    "    key_groups[i][0] = len(original_grouping.get_group(k))\n",
    "    try:\n",
    "        key_groups[i][1] = len(clean_grouping.get_group(k))\n",
    "    except KeyError:\n",
    "        pass\n",
    "    i += 1"
   ]
  },
  {
   "cell_type": "code",
   "execution_count": 31,
   "metadata": {
    "collapsed": false
   },
   "outputs": [],
   "source": [
    "key_groups_difference = np.array([kg[0] - kg[1] for kg in key_groups])"
   ]
  },
  {
   "cell_type": "markdown",
   "metadata": {},
   "source": [
    "And now we can plot this."
   ]
  },
  {
   "cell_type": "code",
   "execution_count": 35,
   "metadata": {
    "collapsed": false
   },
   "outputs": [
    {
     "data": {
      "image/png": "[encoded data removed]",
      "text/plain": [
       "<matplotlib.figure.Figure at 0x7f7ba867f668>"
      ]
     },
     "metadata": {},
     "output_type": "display_data"
    }
   ],
   "source": [
    "plt.figure(figsize=(16, 8))\n",
    "plt.scatter(np.arange(len(key_groups_difference)), key_groups_difference, s=1)\n",
    "plt.show()"
   ]
  },
  {
   "cell_type": "markdown",
   "metadata": {},
   "source": [
    "From this we can interpret that *most* systems have no change, while very few lose all their data. This result is good enough for our purposes."
   ]
  },
  {
   "cell_type": "markdown",
   "metadata": {},
   "source": [
    "# Release Analysis\n",
    "\n",
    "Now let's look at the dirty data. We will see if the software and firmware versions affect the number of bad rows."
   ]
  },
  {
   "cell_type": "code",
   "execution_count": 37,
   "metadata": {
    "collapsed": false
   },
   "outputs": [
    {
     "name": "stdout",
     "output_type": "stream",
     "text": [
      "525834\n"
     ]
    },
    {
     "data": {
      "text/html": [
       "<div>\n",
       "<table border=\"1\" class=\"dataframe\">\n",
       "  <thead>\n",
       "    <tr style=\"text-align: right;\">\n",
       "      <th></th>\n",
       "      <th>date</th>\n",
       "      <th>system</th>\n",
       "      <th>controller</th>\n",
       "      <th>obs_time</th>\n",
       "      <th>base_time</th>\n",
       "      <th>delta</th>\n",
       "      <th>release</th>\n",
       "      <th>fw</th>\n",
       "      <th>sw</th>\n",
       "    </tr>\n",
       "  </thead>\n",
       "  <tbody>\n",
       "    <tr>\n",
       "      <th>0</th>\n",
       "      <td>1/1/15</td>\n",
       "      <td>1016FG000432</td>\n",
       "      <td>A</td>\n",
       "      <td>1.420125e+09</td>\n",
       "      <td>1.420092e+09</td>\n",
       "      <td>33447</td>\n",
       "      <td>Galena</td>\n",
       "      <td>07.86.36.30</td>\n",
       "      <td>10.86.0G00.0048</td>\n",
       "    </tr>\n",
       "    <tr>\n",
       "      <th>1</th>\n",
       "      <td>1/1/15</td>\n",
       "      <td>1030FG000606</td>\n",
       "      <td>A</td>\n",
       "      <td>1.420112e+09</td>\n",
       "      <td>1.420045e+09</td>\n",
       "      <td>66903</td>\n",
       "      <td>Galena</td>\n",
       "      <td>07.86.45.30</td>\n",
       "      <td>10.86.0G00.0048</td>\n",
       "    </tr>\n",
       "    <tr>\n",
       "      <th>2</th>\n",
       "      <td>1/1/15</td>\n",
       "      <td>1030FG000619</td>\n",
       "      <td>A</td>\n",
       "      <td>1.420112e+09</td>\n",
       "      <td>1.420111e+09</td>\n",
       "      <td>666</td>\n",
       "      <td>Galena</td>\n",
       "      <td>07.86.45.30</td>\n",
       "      <td>10.86.0G00.0048</td>\n",
       "    </tr>\n",
       "    <tr>\n",
       "      <th>3</th>\n",
       "      <td>1/1/15</td>\n",
       "      <td>1030FG000621</td>\n",
       "      <td>A</td>\n",
       "      <td>1.420112e+09</td>\n",
       "      <td>1.420111e+09</td>\n",
       "      <td>1205</td>\n",
       "      <td>Galena</td>\n",
       "      <td>07.86.45.30</td>\n",
       "      <td>10.86.0G00.0048</td>\n",
       "    </tr>\n",
       "    <tr>\n",
       "      <th>4</th>\n",
       "      <td>1/1/15</td>\n",
       "      <td>1030FG000630</td>\n",
       "      <td>A</td>\n",
       "      <td>1.420112e+09</td>\n",
       "      <td>1.420076e+09</td>\n",
       "      <td>36243</td>\n",
       "      <td>Galena</td>\n",
       "      <td>07.86.45.30</td>\n",
       "      <td>10.86.0G00.0048</td>\n",
       "    </tr>\n",
       "  </tbody>\n",
       "</table>\n",
       "</div>"
      ],
      "text/plain": [
       "     date        system controller      obs_time     base_time  delta release  \\\n",
       "0  1/1/15  1016FG000432          A  1.420125e+09  1.420092e+09  33447  Galena   \n",
       "1  1/1/15  1030FG000606          A  1.420112e+09  1.420045e+09  66903  Galena   \n",
       "2  1/1/15  1030FG000619          A  1.420112e+09  1.420111e+09    666  Galena   \n",
       "3  1/1/15  1030FG000621          A  1.420112e+09  1.420111e+09   1205  Galena   \n",
       "4  1/1/15  1030FG000630          A  1.420112e+09  1.420076e+09  36243  Galena   \n",
       "\n",
       "            fw               sw  \n",
       "0  07.86.36.30  10.86.0G00.0048  \n",
       "1  07.86.45.30  10.86.0G00.0048  \n",
       "2  07.86.45.30  10.86.0G00.0048  \n",
       "3  07.86.45.30  10.86.0G00.0048  \n",
       "4  07.86.45.30  10.86.0G00.0048  "
      ]
     },
     "execution_count": 37,
     "metadata": {},
     "output_type": "execute_result"
    }
   ],
   "source": [
    "dirty_data = pd.DataFrame(dirty_raw_data,\n",
    "                        columns=['date', 'system', 'controller', 'obs_time',\n",
    "                                 'base_time', 'delta', 'release', 'fw', 'sw'])\n",
    "print(len(dirty_data))\n",
    "dirty_data.head()"
   ]
  },
  {
   "cell_type": "markdown",
   "metadata": {},
   "source": [
    "Now we group by software version. We also convert this to an array, as we're interested in the number of bad values per software version. (Note, we make some assumptions about these software versions. This sorting *may* be incorrect.)"
   ]
  },
  {
   "cell_type": "code",
   "execution_count": 77,
   "metadata": {
    "collapsed": false
   },
   "outputs": [],
   "source": [
    "sw_groups = dirty_data.groupby('sw')\n",
    "sw_data = np.array(sorted([(int(''.join(t[0].split('.')[:2]) + t[0].split('.')[-1]),\n",
    "                           t[0], len(t[1]))\n",
    "                          for t in list(sw_groups)],\n",
    "                    key=lambda t: t[0]))\n",
    "numeric_sw_data = np.array(sw_data[:, 2], dtype=int)"
   ]
  },
  {
   "cell_type": "code",
   "execution_count": 81,
   "metadata": {
    "collapsed": false
   },
   "outputs": [],
   "source": [
    "fw_groups = dirty_data.groupby('fw')\n",
    "fw_data = np.array([(t[0], len(t[1]))\n",
    "                    for t in list(fw_groups)\n",
    "                    if t[0] != 'no storage_array_profile.txt'])\n",
    "numeric_fw_data = np.array(fw_data[:, 1], dtype=int)"
   ]
  },
  {
   "cell_type": "code",
   "execution_count": 83,
   "metadata": {
    "collapsed": false
   },
   "outputs": [
    {
     "data": {
      "image/png": "[encoded data removed]",
      "text/plain": [
       "<matplotlib.figure.Figure at 0x7f7ba8314320>"
      ]
     },
     "metadata": {},
     "output_type": "display_data"
    }
   ],
   "source": [
    "plt.figure(figsize=(16, 8))\n",
    "plt.plot(np.arange(len(numeric_sw_data)), numeric_sw_data,\n",
    "            label='Software Versions')\n",
    "plt.plot(np.arange(len(numeric_fw_data)), numeric_fw_data,\n",
    "            label='Firmware Versions')\n",
    "plt.legend()\n",
    "plt.show()"
   ]
  },
  {
   "cell_type": "markdown",
   "metadata": {},
   "source": [
    "Hey! That's perfect! That shows that the number of *bad* rows was really really high for specific versions, but have since been reduced to a lower amount. That's exactly what we wanted to see."
   ]
  },
  {
   "cell_type": "code",
   "execution_count": null,
   "metadata": {
    "collapsed": true
   },
   "outputs": [],
   "source": []
  }
 ],
 "metadata": {
  "kernelspec": {
   "display_name": "Python 3",
   "language": "python",
   "name": "python3"
  },
  "language_info": {
   "codemirror_mode": {
    "name": "ipython",
    "version": 3
   },
   "file_extension": ".py",
   "mimetype": "text/x-python",
   "name": "python",
   "nbconvert_exporter": "python",
   "pygments_lexer": "ipython3",
   "version": "3.4.3"
  }
 },
 "nbformat": 4,
 "nbformat_minor": 0
}
